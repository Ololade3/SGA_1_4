{
 "cells": [
  {
   "cell_type": "code",
   "execution_count": 107,
   "id": "ec66dcd5",
   "metadata": {},
   "outputs": [
    {
     "name": "stdout",
     "output_type": "stream",
     "text": [
      "tables sucessfuly created .\n"
     ]
    }
   ],
   "source": [
    " #create a table titled sales\n",
    "#IMPORTING THE PACKAGE\n",
    "import sqlite3\n",
    "#create connection \n",
    "conn = sqlite3.connect(\"company.db\")\n",
    "#create cursor object\n",
    "cursor=conn.cursor()\n",
    "cursor.execute(\"\"\"CREATE TABLE\n",
    "Employee(Employee_id INTEGER PRIMARY KEY AUTOINCREMENT,Last_name text,First_name text, Position text, Salary integer, date_hired integer)\"\"\")\n",
    "print('tables sucessfuly created .' )\n",
    "conn.commit()"
   ]
  },
  {
   "cell_type": "code",
   "execution_count": 108,
   "id": "31a3f5cf",
   "metadata": {},
   "outputs": [
    {
     "name": "stdout",
     "output_type": "stream",
     "text": [
      "we have inserted 62 record to the tables .\n"
     ]
    }
   ],
   "source": [
    "#IMPORTING THE PACKAGE\n",
    "import sqlite3\n",
    "#create connection \n",
    "conn = sqlite3.connect(\"company.db\")\n",
    "#create cursor object\n",
    "cursor=conn.cursor()\n",
    "employee_list =[(1,'Lew','Allen','City Administrator', 295000, 200),\n",
    "                (2,'Sessoms', 'Allen', 'President', 295000, 2008),\n",
    "                (3, 'HENDERSON', 'KAYATANYA', 'Superintendent Of Schools', 275000, 2007),\n",
    "                (4, 'Lanier', 'Cathy', 'Chief', 230743, 1990),\n",
    "                (5, 'Arons', 'Bernard', 'Medical Officer Psych', 206000, 2008),\n",
    "                (6,'Ritchie', 'Elspeth', 'Medical Officer Psych', 206000, 2010),\n",
    "                (7, 'GRAY', 'VINCENT', 'Mayor', 200000, 2005),\n",
    "                (8,'Marshall', 'Katherine', 'Medical Officer Psych', 200000, 2008),\n",
    "                (9,'Gandhi','Natwar','Chief Financial Officer',199700,1997),\n",
    "                (10,'DUNCAN','LORETTA','Workers Compensation Recipient',197808,1984),\n",
    "                (11,'Baxter','Graeme','Act Provost & Vp Acd Aff',196257,2008),\n",
    "                (12,'Miramontes','David','Medical Director',193125,2011),\n",
    "                (13,'Graves','Warren','Chief Of Staff',193125,2011),\n",
    "                (14,'Stanchfield','Eric','Executive Director',193125,2007),\n",
    "                (15,'Jones','Tyler','Medical Officer Psych',190550,2008),\n",
    "                (16,'BROWN','KWAME','Chairman',190000,2005),\n",
    "                (17,'Eure','Philip','Executive Director',188692,2000),\n",
    "                (18,'Cooper','Ginnie','Executive Director',188044,2006),\n",
    "                (19,'Yadao','Nilda','Medical Officer (psychiatry)',188027,1987),\n",
    "                (20,'Ellerbe','Kenneth','Fire Chief',187302,2003),\n",
    "               (21,'Ruland','Jeffrey','Dir Of The Ctr For Wf Str & Ec',186911,2009),\n",
    "               (22,'Parker','Craig','General Counsel',186911,2009),\n",
    "               (23,'Otero','Beatriz','Dep Mayor For Hlth & Hum Svcs',185000,2011),\n",
    "               (24,'Farley','Mark','Vp Human Resources',186911,2008),\n",
    "               (25,'Quander','Paul','Deputy Mayor',185000,2009),\n",
    "               (26,'Pierre' ,'Louis','Marie Chief Medical Examiner',185000,1985),\n",
    "               (27,'Pestaner','Joseph',\"Medical Officer (medical Exami)\",183892,1997),\n",
    "               (28,'Revercomb','Carolyn',\"Medical Officer (medical Exami)\",183892,2005),\n",
    "               (29,'Morgan' ,'Johnson','Sheila Chief Investment Officer',183677,1991),\n",
    "               (30,'Williamson','Michael','Deputy Director',182000,2011),\n",
    "               (31,'White','Mattie','Medical Officer (psychiatry)',180604,1989),\n",
    "               (32,'Park','Kyung','Medical Officer (psychiatry)',180604,1987),\n",
    "               (33,'Gore','T','Medical Officer (psychiatry)',172101,2005),\n",
    "               (34,'LUDWIG','BENJAMIN','Workers Compensation Recipient',171517,1972),\n",
    "               (35,'Atdjian','Sylvia','Medical Officer (psychiatry)',170938,2007),\n",
    "               (36,'Zaidi','Syed','Medical Officer (psychiatry)',170344,2005),\n",
    "               (37,'Sherron','Robert','Medical Officer (psychiatry)',170344,1991),\n",
    "               (38,'Johnson','Nicole','Medical Officer (psychiatry)',170344,2007),\n",
    "               (39,'RUDA','LISA','Chief Of Staff',170000,2007),\n",
    "               (40,'Beers','Nathaniel','Deputy Superintendent',170000,2007),\n",
    "               (41,'Nuss','Laura','Director',170000,2007),\n",
    "               (42,'Mancini','Robert','Acting Director',170000,2004),\n",
    "               (43,'Wicker','Henry','Medical Officer Opthal',168378,1987),\n",
    "               (44,'DavenporT','Nancy','Administrative Librarian',167200,2006),\n",
    "               (45,'Jaji','Abayomi',\"Medical Officer (psychiatry)\",167062,2000),\n",
    "               (46,'Stevens','KyleeAnn','Medical Officer (psychiatry)',167051,2008),\n",
    "               (47,'Smothers','Kenneth','Medical Officer (psychiatry)',166995,1987),\n",
    "               (48,'Akhtar','Saleha','Medical Officer (psychiatry)',166995,1988),\n",
    "               (49,'Singh','Anjali','Medical Officer (psychiatry)',166370,1999),\n",
    "               (50,'Rahman','Umar','Medical Officer (psychiatry)',166370,1996),\n",
    "               (51,'Adewale','Benjamin','Medical Officer (psychiatry)',166370,1988),\n",
    "               (52,'Zaidi','Syed','Medical Officer General Practi',165842,1983),\n",
    "               (53,'Jackson','Kenneth','Assistant Fire Chief Srvs',165306,1982),\n",
    "               (54,'Berns','David','Dir Of Human Services',165200,2011),\n",
    "               (55,'Cordi','Stephen','Deputy Cfo Otr',165162,2008),\n",
    "               (56,'Mallory','Lisa','Acting Director',165000,2004),\n",
    "               (57,'Flowers','Brian','General Counsel',165000,1985),\n",
    "               (58,'Bellamy','Terry','Director',165000,2008),\n",
    "               (59,'West','Millicent','Director Homeland Sec & Ema',165000,2003),\n",
    "               (60,'Pappas','Gregory','Deputy Dir',164800,2011),\n",
    "               (61,'Altaf','Samia','Supervisor Medical Officer',164800,2010),\n",
    "               (62,'Owens','Karen','Dental Officer',164800,1989)]\n",
    "               \n",
    "                \n",
    "\n",
    "cursor.executemany(\"INSERT INTO Employee VALUES(?, ?, ?, ?, ?,?)\",employee_list )\n",
    "print('we have inserted', cursor.rowcount , 'record to the tables .' )\n",
    "conn.commit()\n"
   ]
  },
  {
   "cell_type": "code",
   "execution_count": 109,
   "id": "f72d59f2",
   "metadata": {},
   "outputs": [
    {
     "data": {
      "text/plain": [
       "[('City Administrator',),\n",
       " ('President',),\n",
       " ('Superintendent Of Schools',),\n",
       " ('Chief',),\n",
       " ('Medical Officer Psych',),\n",
       " ('Mayor',),\n",
       " ('Chief Financial Officer',),\n",
       " ('Workers Compensation Recipient',),\n",
       " ('Act Provost & Vp Acd Aff',),\n",
       " ('Medical Director',),\n",
       " ('Chief Of Staff',),\n",
       " ('Executive Director',),\n",
       " ('Chairman',),\n",
       " ('Medical Officer (psychiatry)',),\n",
       " ('Fire Chief',),\n",
       " ('Dir Of The Ctr For Wf Str & Ec',),\n",
       " ('General Counsel',),\n",
       " ('Dep Mayor For Hlth & Hum Svcs',),\n",
       " ('Vp Human Resources',),\n",
       " ('Deputy Mayor',),\n",
       " ('Marie Chief Medical Examiner',),\n",
       " ('Medical Officer (medical Exami)',),\n",
       " ('Sheila Chief Investment Officer',),\n",
       " ('Deputy Director',),\n",
       " ('Deputy Superintendent',),\n",
       " ('Director',),\n",
       " ('Acting Director',),\n",
       " ('Medical Officer Opthal',),\n",
       " ('Administrative Librarian',),\n",
       " ('Medical Officer General Practi',),\n",
       " ('Assistant Fire Chief Srvs',),\n",
       " ('Dir Of Human Services',),\n",
       " ('Deputy Cfo Otr',),\n",
       " ('Director Homeland Sec & Ema',),\n",
       " ('Deputy Dir',),\n",
       " ('Supervisor Medical Officer',),\n",
       " ('Dental Officer',)]"
      ]
     },
     "execution_count": 109,
     "metadata": {},
     "output_type": "execute_result"
    }
   ],
   "source": [
    "#2\n",
    "#Write a query to get the ‘unique’ Position from employee table\n",
    "sql =\"\"\"\n",
    "SELECT DISTINCT Position FROM Employee\"\"\"\n",
    "cursor. execute(sql)\n",
    "result = cursor.fetchall()\n",
    "result"
   ]
  },
  {
   "cell_type": "code",
   "execution_count": 117,
   "id": "f8e76b63",
   "metadata": {},
   "outputs": [
    {
     "data": {
      "text/plain": [
       "[(13, 'Graves', 'Warren', 'Chief Of Staff', 193125, 2011),\n",
       " (7, 'GRAY', 'VINCENT', 'Mayor', 200000, 2005),\n",
       " (50, 'Rahman', 'Umar', 'Medical Officer (psychiatry)', 166370, 1996),\n",
       " (15, 'Jones', 'Tyler', 'Medical Officer Psych', 190550, 2008),\n",
       " (58, 'Bellamy', 'Terry', 'Director', 165000, 2008),\n",
       " (33, 'Gore', 'T', 'Medical Officer (psychiatry)', 172101, 2005),\n",
       " (35, 'Atdjian', 'Sylvia', 'Medical Officer (psychiatry)', 170938, 2007),\n",
       " (36, 'Zaidi', 'Syed', 'Medical Officer (psychiatry)', 170344, 2005),\n",
       " (52, 'Zaidi', 'Syed', 'Medical Officer General Practi', 165842, 1983),\n",
       " (55, 'Cordi', 'Stephen', 'Deputy Cfo Otr', 165162, 2008),\n",
       " (61, 'Altaf', 'Samia', 'Supervisor Medical Officer', 164800, 2010),\n",
       " (48, 'Akhtar', 'Saleha', 'Medical Officer (psychiatry)', 166995, 1988),\n",
       " (37, 'Sherron', 'Robert', 'Medical Officer (psychiatry)', 170344, 1991),\n",
       " (42, 'Mancini', 'Robert', 'Acting Director', 170000, 2004),\n",
       " (17, 'Eure', 'Philip', 'Executive Director', 188692, 2000),\n",
       " (25, 'Quander', 'Paul', 'Deputy Mayor', 185000, 2009),\n",
       " (19, 'Yadao', 'Nilda', 'Medical Officer (psychiatry)', 188027, 1987),\n",
       " (38, 'Johnson', 'Nicole', 'Medical Officer (psychiatry)', 170344, 2007),\n",
       " (9, 'Gandhi', 'Natwar', 'Chief Financial Officer', 199700, 1997),\n",
       " (40, 'Beers', 'Nathaniel', 'Deputy Superintendent', 170000, 2007),\n",
       " (44, 'DavenporT', 'Nancy', 'Administrative Librarian', 167200, 2006),\n",
       " (59, 'West', 'Millicent', 'Director Homeland Sec & Ema', 165000, 2003),\n",
       " (30, 'Williamson', 'Michael', 'Deputy Director', 182000, 2011),\n",
       " (31, 'White', 'Mattie', 'Medical Officer (psychiatry)', 180604, 1989),\n",
       " (24, 'Farley', 'Mark', 'Vp Human Resources', 186911, 2008),\n",
       " (26, 'Pierre', 'Louis', 'Marie Chief Medical Examiner', 185000, 1985),\n",
       " (56, 'Mallory', 'Lisa', 'Acting Director', 165000, 2004),\n",
       " (41, 'Nuss', 'Laura', 'Director', 170000, 2007),\n",
       " (10, 'DUNCAN', 'LORETTA', 'Workers Compensation Recipient', 197808, 1984),\n",
       " (39, 'Peter', 'LISA', 'Chief Of Staff', 170000, 2007),\n",
       " (32, 'Park', 'Kyung', 'Medical Officer (psychiatry)', 180604, 1987),\n",
       " (46, 'Stevens', 'KyleeAnn', 'Medical Officer (psychiatry)', 167051, 2008),\n",
       " (20, 'Ellerbe', 'Kenneth', 'Fire Chief', 187302, 2003),\n",
       " (47, 'Smothers', 'Kenneth', 'Medical Officer (psychiatry)', 166995, 1987),\n",
       " (53, 'Jackson', 'Kenneth', 'Assistant Fire Chief Srvs', 165306, 1982),\n",
       " (8, 'Marshall', 'Katherine', 'Medical Officer Psych', 200000, 2008),\n",
       " (62, 'Owens', 'Karen', 'Dental Officer', 164800, 1989),\n",
       " (3, 'HENDERSON', 'KAYATANYA', 'Superintendent Of Schools', 275000, 2007),\n",
       " (27, 'Pestaner', 'Joseph', 'Medical Officer (medical Exami)', 183892, 1997),\n",
       " (29, 'Morgan', 'Johnson', 'Sheila Chief Investment Officer', 183677, 1991),\n",
       " (21, 'Ruland', 'Jeffrey', 'Dir Of The Ctr For Wf Str & Ec', 186911, 2009),\n",
       " (43, 'Wicker', 'Henry', 'Medical Officer Opthal', 168378, 1987),\n",
       " (60, 'Pappas', 'Gregory', 'Deputy Dir', 164800, 2011),\n",
       " (11, 'Baxter', 'Graeme', 'Act Provost & Vp Acd Aff', 196257, 2008),\n",
       " (18, 'Cooper', 'Ginnie', 'Executive Director', 188044, 2006),\n",
       " (14, 'Stanchfield', 'Eric', 'Executive Director', 193125, 2007),\n",
       " (6, 'Ritchie', 'Elspeth', 'Medical Officer Psych', 206000, 2010),\n",
       " (12, 'Miramontes', 'David', 'Medical Director', 193125, 2011),\n",
       " (54, 'Berns', 'David', 'Dir Of Human Services', 165200, 2011),\n",
       " (22, 'Parker', 'Craig', 'General Counsel', 186911, 2009),\n",
       " (4, 'Lanier', 'Cathy', 'Chief', 230743, 1990),\n",
       " (28, 'Revercomb', 'Carolyn', 'Medical Officer (medical Exami)', 183892, 2005),\n",
       " (57, 'Flowers', 'Brian', 'General Counsel', 165000, 1985),\n",
       " (5, 'Arons', 'Bernard', 'Medical Officer Psych', 206000, 2008),\n",
       " (51, 'Adewale', 'Benjamin', 'Medical Officer (psychiatry)', 166370, 1988),\n",
       " (23, 'Otero', 'Beatriz', 'Dep Mayor For Hlth & Hum Svcs', 185000, 2011),\n",
       " (34, 'LUDWIG', 'BENJAMIN', 'Workers Compensation Recipient', 171517, 1972),\n",
       " (49, 'Singh', 'Anjali', 'Medical Officer (psychiatry)', 166370, 1999),\n",
       " (1, 'Lew', 'Allen', 'City Administrator', 295000, 200),\n",
       " (2, 'Sessoms', 'Allen', 'President', 295000, 2008),\n",
       " (45, 'Jaji', 'Abayomi', 'Medical Officer (psychiatry)', 167062, 2000)]"
      ]
     },
     "execution_count": 117,
     "metadata": {},
     "output_type": "execute_result"
    }
   ],
   "source": [
    "#3\n",
    "#Write a query to get all employee details from the employee table, order by first_name, in descending order.\n",
    "sql =\"\"\"\n",
    "SELECT * FROM Employee\n",
    "ORDER BY First_name DESC\"\"\"\n",
    "cursor.execute(sql)\n",
    "result = cursor.fetchall()\n",
    "result\n",
    "#DONT FORGET MY THIRD COLUMN IS THE FIRST_NAME"
   ]
  },
  {
   "cell_type": "code",
   "execution_count": 115,
   "id": "75e2e1d3",
   "metadata": {},
   "outputs": [
    {
     "data": {
      "text/plain": [
       "[('Allen', 'Lew', 295000),\n",
       " ('Allen', 'Sessoms', 295000),\n",
       " ('KAYATANYA', 'HENDERSON', 275000),\n",
       " ('Cathy', 'Lanier', 230743),\n",
       " ('Bernard', 'Arons', 206000),\n",
       " ('Elspeth', 'Ritchie', 206000)]"
      ]
     },
     "execution_count": 115,
     "metadata": {},
     "output_type": "execute_result"
    }
   ],
   "source": [
    "#4\n",
    "#Write a query that returns employees’ first_name, last_name and salary, for salary greater than 200,000.\n",
    "sql =\"\"\"\n",
    "SELECT First_name,Last_name,Salary FROM Employee\n",
    "WHERE Salary > 200000\"\"\"\n",
    "cursor.execute(sql)\n",
    "result = cursor.fetchall()\n",
    "result"
   ]
  },
  {
   "cell_type": "code",
   "execution_count": 111,
   "id": "e86d3049",
   "metadata": {},
   "outputs": [
    {
     "data": {
      "text/plain": [
       "[]"
      ]
     },
     "execution_count": 111,
     "metadata": {},
     "output_type": "execute_result"
    }
   ],
   "source": [
    "#5\n",
    "#One of the employees whose first_name was RUDA got married and changed her last_name to Peter, write a query to effect this change on her last name, thereafter, write a query that returns all her details to enable you view the change made to her name.\n",
    "sql =\"\"\"\n",
    "UPDATE employee\n",
    "SET Last_name = 'Peter'\n",
    "WHERE Employee_id = 39;\"\"\"\n",
    "cursor.execute(sql)\n",
    "result = cursor.fetchall()\n",
    "result\n",
    "\n"
   ]
  },
  {
   "cell_type": "code",
   "execution_count": 81,
   "id": "99ecf823",
   "metadata": {},
   "outputs": [
    {
     "data": {
      "text/plain": [
       "[(39, 'Peter', 'LISA', 'Chief Of Staff', 170000, 2007)]"
      ]
     },
     "execution_count": 81,
     "metadata": {},
     "output_type": "execute_result"
    }
   ],
   "source": [
    "#5B #RUDA DETAILS\n",
    "sql = \"\"\"\n",
    "SELECT *\n",
    "FROM employee\n",
    "wHERE Employee_id = 39;\n",
    "\"\"\"\n",
    "cursor.execute(sql)\n",
    "\n",
    "result = cursor.fetchall()\n",
    "result"
   ]
  },
  {
   "cell_type": "code",
   "execution_count": 112,
   "id": "b04c4702",
   "metadata": {},
   "outputs": [
    {
     "data": {
      "text/plain": [
       "[]"
      ]
     },
     "execution_count": 112,
     "metadata": {},
     "output_type": "execute_result"
    }
   ],
   "source": [
    "#6\n",
    "#One of the employees with last_name ‘KWAME’ left the organization for another job, write a query that removes his name from the database. View the whole table by writing another query to verify the change that was made to the employee.\n",
    "sql=\"\"\"DELETE FROM employee\n",
    "WHERE Employee_id = 16; \"\"\"\n",
    "\n",
    "cursor.execute(sql)\n",
    "\n",
    "result = cursor.fetchall()\n",
    "result\n"
   ]
  },
  {
   "cell_type": "code",
   "execution_count": 73,
   "id": "9fc513df",
   "metadata": {},
   "outputs": [
    {
     "data": {
      "text/plain": [
       "[(1, 'Lew', 'Allen', 'City Administrator', 295000, 200),\n",
       " (2, 'Sessoms', 'Allen', 'President', 295000, 2008),\n",
       " (3, 'HENDERSON', 'KAYATANYA', 'Superintendent Of Schools', 275000, 2007),\n",
       " (4, 'Lanier', 'Cathy', 'Chief', 230743, 1990),\n",
       " (5, 'Arons', 'Bernard', 'Medical Officer Psych', 206000, 2008),\n",
       " (6, 'Ritchie', 'Elspeth', 'Medical Officer Psych', 206000, 2010),\n",
       " (7, 'GRAY', 'VINCENT', 'Mayor', 200000, 2005),\n",
       " (8, 'Marshall', 'Katherine', 'Medical Officer Psych', 200000, 2008),\n",
       " (9, 'Gandhi', 'Natwar', 'Chief Financial Officer', 199700, 1997),\n",
       " (10, 'DUNCAN', 'LORETTA', 'Workers Compensation Recipient', 197808, 1984),\n",
       " (11, 'Baxter', 'Graeme', 'Act Provost & Vp Acd Aff', 196257, 2008),\n",
       " (12, 'Miramontes', 'David', 'Medical Director', 193125, 2011),\n",
       " (13, 'Graves', 'Warren', 'Chief Of Staff', 193125, 2011),\n",
       " (14, 'Stanchfield', 'Eric', 'Executive Director', 193125, 2007),\n",
       " (15, 'Jones', 'Tyler', 'Medical Officer Psych', 190550, 2008),\n",
       " (17, 'Eure', 'Philip', 'Executive Director', 188692, 2000),\n",
       " (18, 'Cooper', 'Ginnie', 'Executive Director', 188044, 2006),\n",
       " (19, 'Yadao', 'Nilda', 'Medical Officer (psychiatry)', 188027, 1987),\n",
       " (20, 'Ellerbe', 'Kenneth', 'Fire Chief', 187302, 2003),\n",
       " (21, 'Ruland', 'Jeffrey', 'Dir Of The Ctr For Wf Str & Ec', 186911, 2009),\n",
       " (22, 'Parker', 'Craig', 'General Counsel', 186911, 2009),\n",
       " (23, 'Otero', 'Beatriz', 'Dep Mayor For Hlth & Hum Svcs', 185000, 2011),\n",
       " (24, 'Farley', 'Mark', 'Vp Human Resources', 186911, 2008),\n",
       " (25, 'Quander', 'Paul', 'Deputy Mayor', 185000, 2009),\n",
       " (26, 'Pierre', 'Louis', 'Marie Chief Medical Examiner', 185000, 1985),\n",
       " (27, 'Pestaner', 'Joseph', 'Medical Officer (medical Exami)', 183892, 1997),\n",
       " (28, 'Revercomb', 'Carolyn', 'Medical Officer (medical Exami)', 183892, 2005),\n",
       " (29, 'Morgan', 'Johnson', 'Sheila Chief Investment Officer', 183677, 1991),\n",
       " (30, 'Williamson', 'Michael', 'Deputy Director', 182000, 2011),\n",
       " (31, 'White', 'Mattie', 'Medical Officer (psychiatry)', 180604, 1989),\n",
       " (32, 'Park', 'Kyung', 'Medical Officer (psychiatry)', 180604, 1987),\n",
       " (33, 'Gore', 'T', 'Medical Officer (psychiatry)', 172101, 2005),\n",
       " (34, 'LUDWIG', 'BENJAMIN', 'Workers Compensation Recipient', 171517, 1972),\n",
       " (35, 'Atdjian', 'Sylvia', 'Medical Officer (psychiatry)', 170938, 2007),\n",
       " (36, 'Zaidi', 'Syed', 'Medical Officer (psychiatry)', 170344, 2005),\n",
       " (37, 'Sherron', 'Robert', 'Medical Officer (psychiatry)', 170344, 1991),\n",
       " (38, 'Johnson', 'Nicole', 'Medical Officer (psychiatry)', 170344, 2007),\n",
       " (39, 'Peter', 'LISA', 'Chief Of Staff', 170000, 2007),\n",
       " (40, 'Beers', 'Nathaniel', 'Deputy Superintendent', 170000, 2007),\n",
       " (41, 'Nuss', 'Laura', 'Director', 170000, 2007),\n",
       " (42, 'Mancini', 'Robert', 'Acting Director', 170000, 2004),\n",
       " (43, 'Wicker', 'Henry', 'Medical Officer Opthal', 168378, 1987),\n",
       " (44, 'DavenporT', 'Nancy', 'Administrative Librarian', 167200, 2006),\n",
       " (45, 'Jaji', 'Abayomi', 'Medical Officer (psychiatry)', 167062, 2000),\n",
       " (46, 'Stevens', 'KyleeAnn', 'Medical Officer (psychiatry)', 167051, 2008),\n",
       " (47, 'Smothers', 'Kenneth', 'Medical Officer (psychiatry)', 166995, 1987),\n",
       " (48, 'Akhtar', 'Saleha', 'Medical Officer (psychiatry)', 166995, 1988),\n",
       " (49, 'Singh', 'Anjali', 'Medical Officer (psychiatry)', 166370, 1999),\n",
       " (50, 'Rahman', 'Umar', 'Medical Officer (psychiatry)', 166370, 1996),\n",
       " (51, 'Adewale', 'Benjamin', 'Medical Officer (psychiatry)', 166370, 1988),\n",
       " (52, 'Zaidi', 'Syed', 'Medical Officer General Practi', 165842, 1983),\n",
       " (53, 'Jackson', 'Kenneth', 'Assistant Fire Chief Srvs', 165306, 1982),\n",
       " (54, 'Berns', 'David', 'Dir Of Human Services', 165200, 2011),\n",
       " (55, 'Cordi', 'Stephen', 'Deputy Cfo Otr', 165162, 2008),\n",
       " (56, 'Mallory', 'Lisa', 'Acting Director', 165000, 2004),\n",
       " (57, 'Flowers', 'Brian', 'General Counsel', 165000, 1985),\n",
       " (58, 'Bellamy', 'Terry', 'Director', 165000, 2008),\n",
       " (59, 'West', 'Millicent', 'Director Homeland Sec & Ema', 165000, 2003),\n",
       " (60, 'Pappas', 'Gregory', 'Deputy Dir', 164800, 2011),\n",
       " (61, 'Altaf', 'Samia', 'Supervisor Medical Officer', 164800, 2010),\n",
       " (62, 'Owens', 'Karen', 'Dental Officer', 164800, 1989)]"
      ]
     },
     "execution_count": 73,
     "metadata": {},
     "output_type": "execute_result"
    }
   ],
   "source": [
    "#6b To confirm the removal\n",
    "\n",
    "sql =\"\"\"\n",
    "SELECT * FROM Employee\n",
    "\"\"\"\n",
    "cursor.execute(sql)\n",
    "result = cursor.fetchall()\n",
    "result"
   ]
  },
  {
   "cell_type": "code",
   "execution_count": 94,
   "id": "a2fb887e",
   "metadata": {},
   "outputs": [
    {
     "data": {
      "text/plain": [
       "[]"
      ]
     },
     "execution_count": 94,
     "metadata": {},
     "output_type": "execute_result"
    }
   ],
   "source": [
    "#7\n",
    "#Write a query that renames the column “Position” to “job_role”\n",
    "sql =\"\"\"\n",
    "ALTER TABLE Employee\n",
    "RENAME COLUMN Position TO job_role\n",
    "\"\"\"\n",
    "cursor.execute(sql)\n",
    "result = cursor.fetchall()\n",
    "result"
   ]
  },
  {
   "cell_type": "code",
   "execution_count": 116,
   "id": "dab312f6",
   "metadata": {},
   "outputs": [
    {
     "data": {
      "text/plain": [
       "[(60, 'Gregory', 'Pappas', 164800),\n",
       " (61, 'Samia', 'Altaf', 164800),\n",
       " (62, 'Karen', 'Owens', 164800),\n",
       " (56, 'Lisa', 'Mallory', 165000),\n",
       " (57, 'Brian', 'Flowers', 165000),\n",
       " (58, 'Terry', 'Bellamy', 165000),\n",
       " (59, 'Millicent', 'West', 165000),\n",
       " (55, 'Stephen', 'Cordi', 165162),\n",
       " (54, 'David', 'Berns', 165200),\n",
       " (53, 'Kenneth', 'Jackson', 165306),\n",
       " (52, 'Syed', 'Zaidi', 165842),\n",
       " (49, 'Anjali', 'Singh', 166370),\n",
       " (50, 'Umar', 'Rahman', 166370),\n",
       " (51, 'Benjamin', 'Adewale', 166370),\n",
       " (47, 'Kenneth', 'Smothers', 166995),\n",
       " (48, 'Saleha', 'Akhtar', 166995),\n",
       " (46, 'KyleeAnn', 'Stevens', 167051),\n",
       " (45, 'Abayomi', 'Jaji', 167062),\n",
       " (44, 'Nancy', 'DavenporT', 167200),\n",
       " (43, 'Henry', 'Wicker', 168378),\n",
       " (39, 'LISA', 'Peter', 170000),\n",
       " (40, 'Nathaniel', 'Beers', 170000),\n",
       " (41, 'Laura', 'Nuss', 170000),\n",
       " (42, 'Robert', 'Mancini', 170000),\n",
       " (36, 'Syed', 'Zaidi', 170344),\n",
       " (37, 'Robert', 'Sherron', 170344),\n",
       " (38, 'Nicole', 'Johnson', 170344),\n",
       " (35, 'Sylvia', 'Atdjian', 170938),\n",
       " (34, 'BENJAMIN', 'LUDWIG', 171517),\n",
       " (33, 'T', 'Gore', 172101),\n",
       " (31, 'Mattie', 'White', 180604),\n",
       " (32, 'Kyung', 'Park', 180604),\n",
       " (30, 'Michael', 'Williamson', 182000),\n",
       " (29, 'Johnson', 'Morgan', 183677),\n",
       " (27, 'Joseph', 'Pestaner', 183892),\n",
       " (28, 'Carolyn', 'Revercomb', 183892),\n",
       " (23, 'Beatriz', 'Otero', 185000),\n",
       " (25, 'Paul', 'Quander', 185000),\n",
       " (26, 'Louis', 'Pierre', 185000),\n",
       " (21, 'Jeffrey', 'Ruland', 186911),\n",
       " (22, 'Craig', 'Parker', 186911),\n",
       " (24, 'Mark', 'Farley', 186911),\n",
       " (20, 'Kenneth', 'Ellerbe', 187302),\n",
       " (19, 'Nilda', 'Yadao', 188027),\n",
       " (18, 'Ginnie', 'Cooper', 188044),\n",
       " (17, 'Philip', 'Eure', 188692),\n",
       " (15, 'Tyler', 'Jones', 190550),\n",
       " (12, 'David', 'Miramontes', 193125),\n",
       " (13, 'Warren', 'Graves', 193125),\n",
       " (14, 'Eric', 'Stanchfield', 193125),\n",
       " (11, 'Graeme', 'Baxter', 196257),\n",
       " (10, 'LORETTA', 'DUNCAN', 197808),\n",
       " (9, 'Natwar', 'Gandhi', 199700),\n",
       " (7, 'VINCENT', 'GRAY', 200000),\n",
       " (8, 'Katherine', 'Marshall', 200000),\n",
       " (5, 'Bernard', 'Arons', 206000),\n",
       " (6, 'Elspeth', 'Ritchie', 206000),\n",
       " (4, 'Cathy', 'Lanier', 230743),\n",
       " (3, 'KAYATANYA', 'HENDERSON', 275000),\n",
       " (1, 'Allen', 'Lew', 295000),\n",
       " (2, 'Allen', 'Sessoms', 295000)]"
      ]
     },
     "execution_count": 116,
     "metadata": {},
     "output_type": "execute_result"
    }
   ],
   "source": [
    "#8\n",
    "#Write a query to get the employee_id, (first_name, last_name), salary in ascending order of salary. Alias the first_name and last_name as “Name”.\n",
    "sql = \"\"\"\n",
    "SELECT Employee_id, First_name AS NAME, Last_name AS NAME, Salary \n",
    "    FROM Employee \n",
    "    ORDER BY Salary ASC;\n",
    "\"\"\"\n",
    "cursor.execute(sql)\n",
    "\n",
    "result = cursor.fetchall()\n",
    "result\n"
   ]
  },
  {
   "cell_type": "code",
   "execution_count": 23,
   "id": "008f7c77",
   "metadata": {},
   "outputs": [
    {
     "data": {
      "text/plain": [
       "[(6,)]"
      ]
     },
     "execution_count": 23,
     "metadata": {},
     "output_type": "execute_result"
    }
   ],
   "source": [
    "#9\n",
    "#Write a query that gives the count of employees whose salaries are greater than 200,000. [Hint: Use the “COUNT” clause\n",
    "sql = \"\"\"\n",
    "SELECT COUNT(Employee_id)\n",
    "FROM employee\n",
    "wHERE Salary > 200000;\n",
    "\"\"\"\n",
    "cursor.execute(sql)\n",
    "\n",
    "result = cursor.fetchall()\n",
    "result\n"
   ]
  },
  {
   "cell_type": "code",
   "execution_count": 52,
   "id": "fadbb242",
   "metadata": {},
   "outputs": [
    {
     "data": {
      "text/plain": [
       "[(295000, 164800)]"
      ]
     },
     "execution_count": 52,
     "metadata": {},
     "output_type": "execute_result"
    }
   ],
   "source": [
    "#10\n",
    "#Write a query to get the maximum and minimum salary from the employees table. [Hint: Use the MAX, MIN functions]\n",
    "sql = \"\"\"\n",
    "SELECT MAX(Salary), MIN(Salary)  \n",
    "FROM employee;\n",
    "\"\"\"\n",
    "cursor.execute(sql)\n",
    "\n",
    "result = cursor.fetchall()\n",
    "result\n"
   ]
  },
  {
   "cell_type": "code",
   "execution_count": null,
   "id": "6bb4bb74",
   "metadata": {},
   "outputs": [],
   "source": []
  },
  {
   "cell_type": "code",
   "execution_count": null,
   "id": "23b1d515",
   "metadata": {},
   "outputs": [],
   "source": []
  }
 ],
 "metadata": {
  "kernelspec": {
   "display_name": "Python 3 (ipykernel)",
   "language": "python",
   "name": "python3"
  },
  "language_info": {
   "codemirror_mode": {
    "name": "ipython",
    "version": 3
   },
   "file_extension": ".py",
   "mimetype": "text/x-python",
   "name": "python",
   "nbconvert_exporter": "python",
   "pygments_lexer": "ipython3",
   "version": "3.10.8"
  }
 },
 "nbformat": 4,
 "nbformat_minor": 5
}
